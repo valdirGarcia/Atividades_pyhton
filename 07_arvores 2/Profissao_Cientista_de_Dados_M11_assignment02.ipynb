{
 "cells": [
  {
   "cell_type": "markdown",
   "metadata": {
    "id": "pSfPJsnipXkq"
   },
   "source": [
    "## Árvores de regressão - exercícios 02\n",
    "\n",
    "Este exercício será uma continuação do anterior, mesma base, mesmas variáveis - vamos tentar buscar a 'melhor árvore'.\n"
   ]
  },
  {
   "cell_type": "markdown",
   "metadata": {
    "id": "CL07SfYxpbvw"
   },
   "source": [
    "*Atenção - Utilizar a base de dados em anexo que é a mesma base que utilizamos na atividade anterior! A base Boston, assim como para a primeira atividade foi descontinuada e não deve ser utilizada*"
   ]
  },
  {
   "cell_type": "code",
   "execution_count": null,
   "metadata": {
    "id": "i91q0awTpXlm"
   },
   "outputs": [],
   "source": [
    "import pandas as pd\n",
    "\n",
    "from sklearn.tree import plot_tree\n",
    "import matplotlib.pyplot as plt\n",
    "\n",
    "from sklearn import datasets\n",
    "from sklearn.tree import DecisionTreeRegressor\n",
    "from sklearn import tree\n",
    "from sklearn.model_selection import train_test_split\n",
    "from sklearn.metrics import mean_squared_error, r2_score"
   ]
  },
  {
   "cell_type": "markdown",
   "metadata": {
    "id": "0rw9pJC-pXlx"
   },
   "source": [
    "### 1. Execute os passos do exercício anterior, até que você tenha uma árvore de regressão predizendo o valor do imóvel na base de treinamento."
   ]
  },
  {
   "cell_type": "code",
   "execution_count": null,
   "metadata": {
    "id": "fqWgajp2pXly"
   },
   "outputs": [],
   "source": [
    "house = pd.read_csv('housing.csv')\n",
    "\n",
    "numeric_house = house.iloc[:, :-1] \n",
    "\n",
    "features = numeric_house[['median_income', 'total_rooms', 'total_bedrooms', 'households', 'population']]\n",
    "target = numeric_house['median_house_value']\n",
    "\n",
    "X_train, X_test, y_train, y_test = train_test_split(features, target, random_state=42)\n",
    "\n",
    "regressor = DecisionTreeRegressor(random_state=42)\n",
    "\n",
    "regressor.fit(X_train, y_train)\n",
    "\n",
    "y_pred = regressor.predict(X_test)\n",
    "\n",
    "mse = mean_squared_error(y_test, y_pred)\n",
    "\n",
    "r2 = r2_score(y_test, y_pred)\n",
    "\n",
    "\n",
    "print(\"Erro Quadrático Médio (MSE):\", mse)\n",
    "print(\"Coeficiente de Determinação (R²):\", r2)\n",
    "\n"
   ]
  },
  {
   "cell_type": "markdown",
   "metadata": {
    "id": "s-dQl0cUpXl0"
   },
   "source": [
    "### 2.  Calcule o caminho indicado pelos CCP-alfas dessa árvore."
   ]
  },
  {
   "cell_type": "code",
   "execution_count": null,
   "metadata": {
    "id": "9p5-aB1ypXl3"
   },
   "outputs": [],
   "source": [
    "path = regressor.cost_complexity_pruning_path(X_train, y_train)\n",
    "\n",
    "\n",
    "ccp_alphas = path.ccp_alphas\n",
    "impurities = path.impurities"
   ]
  },
  {
   "cell_type": "code",
   "execution_count": null,
   "metadata": {
    "id": "YYpsitP1pXl4"
   },
   "outputs": [],
   "source": [
    "plt.figure(figsize=(10, 6))\n",
    "plt.plot(ccp_alphas, impurities, marker='o')\n",
    "plt.xlabel(\"Alpha Efetivo\")\n",
    "plt.ylabel(\"Impureza Total\")\n",
    "plt.title(\"Caminho de Poda com CCP-Alphas\")\n",
    "plt.grid()\n",
    "plt.show()\n"
   ]
  },
  {
   "cell_type": "markdown",
   "metadata": {
    "id": "E3ympg2vpXl6"
   },
   "source": [
    "### 3. Paca cada valor de alpha obtido no item 2, treine uma árvore com o respectivo alfa, e guarde essa árvore em uma lista."
   ]
  },
  {
   "cell_type": "code",
   "execution_count": null,
   "metadata": {
    "id": "miumNbKtpXl7"
   },
   "outputs": [],
   "source": [
    "clfs = []\n",
    "\n",
    "\n",
    "for ccp_alpha in ccp_alphas:\n",
    "    clf = DecisionTreeRegressor(random_state=42, ccp_alpha=ccp_alpha)\n",
    "    clf.fit(X_train, y_train)  \n",
    "    clfs.append(clf)  "
   ]
  },
  {
   "cell_type": "markdown",
   "metadata": {
    "id": "a0JWQ2oNpXl8"
   },
   "source": [
    "### 4. Para cada árvore na lista, calcule o MSE da árvore."
   ]
  },
  {
   "cell_type": "code",
   "execution_count": null,
   "metadata": {
    "id": "L5bklbfCpXl9"
   },
   "outputs": [],
   "source": [
    "mse_values = []\n",
    "\n",
    "for clf in clfs:\n",
    "    y_pred = clf.predict(X_test) \n",
    "    mse = mean_squared_error(y_test, y_pred)  \n",
    "    mse_values.append(mse) "
   ]
  },
  {
   "cell_type": "markdown",
   "metadata": {
    "id": "tL0aolqkpXl9"
   },
   "source": [
    "### 5. Monte um gráfico do MSE pelo alpha, escolha um valor de alpha perto do ponto de mínimo do MSE"
   ]
  },
  {
   "cell_type": "code",
   "execution_count": null,
   "metadata": {
    "id": "06zkHy8FpXl-"
   },
   "outputs": [],
   "source": [
    "plt.figure(figsize=(10, 6))\n",
    "\n",
    "plt.plot(ccp_alphas[:-1], mse_values, marker='o')  \n",
    "plt.xlabel(\"Alpha Efetivo\")\n",
    "plt.ylabel(\"Erro Quadrático Médio (MSE)\")\n",
    "plt.title(\"MSE em Função do Alpha Efetivo\")\n",
    "plt.grid()\n",
    "plt.show()"
   ]
  },
  {
   "cell_type": "code",
   "execution_count": null,
   "metadata": {},
   "outputs": [],
   "source": [
    "min_mse_index = mse_values.index(min(mse_values))\n",
    "best_alpha = ccp_alphas[min_mse_index]  \n",
    "\n",
    "print(f\"O melhor valor de alpha é: {best_alpha:.4f} com MSE: {min(mse_values):.4f}\")\n"
   ]
  },
  {
   "cell_type": "markdown",
   "metadata": {
    "id": "kHmscPlepXl_"
   },
   "source": [
    "### 6. Calcule o R-quadrado dessa árvore encontrada no item acima"
   ]
  },
  {
   "cell_type": "code",
   "execution_count": null,
   "metadata": {
    "id": "YB8wJkIwpXmA"
   },
   "outputs": [],
   "source": [
    "best_clf = DecisionTreeRegressor(random_state=42, ccp_alpha=best_alpha)\n",
    "best_clf.fit(X_train, y_train)\n",
    "\n",
    "y_pred_best = best_clf.predict(X_test)\n",
    "\n",
    "r_squared = r2_score(y_test, y_pred_best)\n",
    "\n",
    "print(f\"O R-quadrado da árvore com alpha {best_alpha:.4f} é: {r_squared:.4f}\")\n"
   ]
  },
  {
   "cell_type": "markdown",
   "metadata": {
    "id": "C7Q2N0zUpXmA"
   },
   "source": [
    "### 7. Visualize esta árvore."
   ]
  },
  {
   "cell_type": "code",
   "execution_count": null,
   "metadata": {
    "id": "hK-ymFkmpXmB"
   },
   "outputs": [],
   "source": [
    "plt.figure(figsize=(20, 10))\n",
    "\n",
    "plot_tree(best_clf, \n",
    "          feature_names=features.columns,  \n",
    "          filled=True,                     \n",
    "          rounded=True,                    \n",
    "          fontsize=10)                   \n",
    "\n",
    "plt.title(\"Árvore de Decisão Visualizada\")\n",
    "plt.show()\n"
   ]
  }
 ],
 "metadata": {
  "colab": {
   "provenance": []
  },
  "kernelspec": {
   "display_name": "Python 3 (ipykernel)",
   "language": "python",
   "name": "python3"
  },
  "language_info": {
   "codemirror_mode": {
    "name": "ipython",
    "version": 3
   },
   "file_extension": ".py",
   "mimetype": "text/x-python",
   "name": "python",
   "nbconvert_exporter": "python",
   "pygments_lexer": "ipython3",
   "version": "3.11.5"
  }
 },
 "nbformat": 4,
 "nbformat_minor": 1
}
