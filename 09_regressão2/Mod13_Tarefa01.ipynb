{
 "cells": [
  {
   "cell_type": "markdown",
   "metadata": {},
   "source": [
    "# EBAC - Regressão II - regressão múltipla\n",
    "\n",
    "## Tarefa I"
   ]
  },
  {
   "cell_type": "markdown",
   "metadata": {},
   "source": [
    "#### Previsão de renda\n",
    "\n",
    "Vamos trabalhar com a base 'previsao_de_renda.csv', que é a base do seu próximo projeto. Vamos usar os recursos que vimos até aqui nesta base.\n",
    "\n",
    "|variavel|descrição|\n",
    "|-|-|\n",
    "|data_ref                | Data de referência de coleta das variáveis |\n",
    "|index                   | Código de identificação do cliente|\n",
    "|sexo                    | Sexo do cliente|\n",
    "|posse_de_veiculo        | Indica se o cliente possui veículo|\n",
    "|posse_de_imovel         | Indica se o cliente possui imóvel|\n",
    "|qtd_filhos              | Quantidade de filhos do cliente|\n",
    "|tipo_renda              | Tipo de renda do cliente|\n",
    "|educacao                | Grau de instrução do cliente|\n",
    "|estado_civil            | Estado civil do cliente|\n",
    "|tipo_residencia         | Tipo de residência do cliente (própria, alugada etc)|\n",
    "|idade                   | Idade do cliente|\n",
    "|tempo_emprego           | Tempo no emprego atual|\n",
    "|qt_pessoas_residencia   | Quantidade de pessoas que moram na residência|\n",
    "|renda                   | Renda em reais|"
   ]
  },
  {
   "cell_type": "code",
   "execution_count": 2,
   "metadata": {},
   "outputs": [],
   "source": [
    "# import math\n",
    "\n",
    "import pandas as pd\n",
    "import numpy as np\n",
    "\n",
    "import seaborn as sns\n",
    "import matplotlib.pyplot as plt\n",
    "\n",
    "# from sklearn.model_selection import train_test_split\n",
    "# from sklearn import metrics\n",
    "# from sklearn.ensemble import RandomForestClassifier\n",
    "\n",
    "# from scipy.stats import ks_2samp\n",
    "import statsmodels.formula.api as smf\n",
    "import statsmodels.api as sm\n",
    "import patsy\n",
    "\n",
    "%matplotlib inline"
   ]
  },
  {
   "cell_type": "code",
   "execution_count": 3,
   "metadata": {},
   "outputs": [],
   "source": [
    "df = pd.read_csv('previsao_de_renda.csv')"
   ]
  },
  {
   "cell_type": "markdown",
   "metadata": {},
   "source": [
    "1. Ajuste um modelo para prever log(renda) considerando todas as covariáveis disponíveis.\n",
    "    - Utilizando os recursos do Patsy, coloque as variáveis qualitativas como *dummies*.\n",
    "    - Mantenha sempre a categoria mais frequente como casela de referência\n",
    "    - Avalie os parâmetros e veja se parecem fazer sentido prático.  \n",
    "\n",
    "\n",
    "2. Remova a variável menos significante e analise:\n",
    "    - Observe os indicadores que vimos, e avalie se o modelo melhorou ou piorou na sua opinião.\n",
    "    - Observe os parâmetros e veja se algum se alterou muito.  \n",
    "\n",
    "\n",
    "3. Siga removendo as variáveis menos significantes, sempre que o *p-value* for menor que 5%. Compare o modelo final com o inicial. Observe os indicadores e conclua se o modelo parece melhor. \n",
    "    "
   ]
  },
  {
   "cell_type": "code",
   "execution_count": 4,
   "metadata": {},
   "outputs": [],
   "source": [
    "variaveis_qualitativas = df[['sexo', 'tipo_renda', 'educacao', 'estado_civil', 'tipo_residencia']]\n",
    "\n",
    "# for variavel in variaveis_qualitativas:\n",
    "\n",
    "   #print(f\"\\nCategorias para '{variavel}':\")\n",
    "\n",
    "     #categorias = df[variavel].value_counts()\n",
    "\n",
    "     #print(categorias)\n",
    "\n",
    "     #print(f\"\\nCategorias de '{variavel}' Ordenadas:\")\n",
    "\n",
    "     #ordenadas = categorias.sort_values(ascending=False)\n",
    "\n",
    "     #print(ordenadas) */"
   ]
  },
  {
   "cell_type": "code",
   "execution_count": 10,
   "metadata": {},
   "outputs": [
    {
     "name": "stdout",
     "output_type": "stream",
     "text": [
      "                            OLS Regression Results                            \n",
      "==============================================================================\n",
      "Dep. Variable:              log_renda   R-squared:                       0.355\n",
      "Model:                            OLS   Adj. R-squared:                  0.354\n",
      "Method:                 Least Squares   F-statistic:                     401.5\n",
      "Date:                Sat, 21 Dec 2024   Prob (F-statistic):               0.00\n",
      "Time:                        23:25:56   Log-Likelihood:                -13593.\n",
      "No. Observations:               12427   AIC:                         2.722e+04\n",
      "Df Residuals:                   12409   BIC:                         2.735e+04\n",
      "Df Model:                          17                                         \n",
      "Covariance Type:            nonrobust                                         \n",
      "===============================================================================================================================\n",
      "                                                                  coef    std err          t      P>|t|      [0.025      0.975]\n",
      "-------------------------------------------------------------------------------------------------------------------------------\n",
      "Intercept                                                       6.5779      0.219     30.071      0.000       6.149       7.007\n",
      "C(sexo, Treatment(\"F\"))[T.M]                                    0.8010      0.014     57.644      0.000       0.774       0.828\n",
      "C(tipo_renda, Treatment(\"Assalariado\"))[T.Bolsista]             0.2294      0.242      0.950      0.342      -0.244       0.703\n",
      "C(tipo_renda, Treatment(\"Assalariado\"))[T.Empresário]           0.1572      0.015     10.522      0.000       0.128       0.186\n",
      "C(tipo_renda, Treatment(\"Assalariado\"))[T.Pensionista]         -0.3291      0.242     -1.362      0.173      -0.803       0.145\n",
      "C(tipo_renda, Treatment(\"Assalariado\"))[T.Servidor público]     0.0566      0.022      2.546      0.011       0.013       0.100\n",
      "C(educacao, Treatment(\"Secundário\"))[T.Primário]                0.0118      0.072      0.165      0.869      -0.129       0.153\n",
      "C(educacao, Treatment(\"Secundário\"))[T.Pós graduação]           0.1585      0.142      1.114      0.265      -0.120       0.437\n",
      "C(educacao, Treatment(\"Secundário\"))[T.Superior completo]       0.1127      0.014      8.136      0.000       0.086       0.140\n",
      "C(educacao, Treatment(\"Secundário\"))[T.Superior incompleto]    -0.0336      0.032     -1.040      0.298      -0.097       0.030\n",
      "C(estado_civil, Treatment(\"Casado\"))[T.Separado]                0.3167      0.111      2.843      0.004       0.098       0.535\n",
      "C(estado_civil, Treatment(\"Casado\"))[T.Solteiro]                0.2689      0.109      2.466      0.014       0.055       0.483\n",
      "C(estado_civil, Treatment(\"Casado\"))[T.União]                  -0.0414      0.025     -1.647      0.100      -0.091       0.008\n",
      "C(estado_civil, Treatment(\"Casado\"))[T.Viúvo]                   0.3713      0.116      3.207      0.001       0.144       0.598\n",
      "qtd_filhos                                                     -0.2660      0.108     -2.461      0.014      -0.478      -0.054\n",
      "idade                                                           0.0056      0.001      7.052      0.000       0.004       0.007\n",
      "tempo_emprego                                                   0.0615      0.001     59.226      0.000       0.059       0.064\n",
      "qt_pessoas_residencia                                           0.2957      0.108      2.740      0.006       0.084       0.507\n",
      "==============================================================================\n",
      "Omnibus:                        0.504   Durbin-Watson:                   2.022\n",
      "Prob(Omnibus):                  0.777   Jarque-Bera (JB):                0.501\n",
      "Skew:                           0.016   Prob(JB):                        0.779\n",
      "Kurtosis:                       3.001   Cond. No.                     2.13e+03\n",
      "==============================================================================\n",
      "\n",
      "Notes:\n",
      "[1] Standard Errors assume that the covariance matrix of the errors is correctly specified.\n",
      "[2] The condition number is large, 2.13e+03. This might indicate that there are\n",
      "strong multicollinearity or other numerical problems.\n"
     ]
    }
   ],
   "source": [
    "df['log_renda'] = np.log(df['renda'])\n",
    "\n",
    "# Definindo a fórmula com variáveis qualitativas (usando a maior categoria como referência)\n",
    "formula = 'log_renda ~ C(sexo, Treatment(\"F\")) + C(tipo_renda, Treatment(\"Assalariado\")) + C(educacao, Treatment(\"Secundário\")) + C(estado_civil, Treatment(\"Casado\")) + qtd_filhos + idade + tempo_emprego + qt_pessoas_residencia'\n",
    "y, X = patsy.dmatrices(formula, data=df)\n",
    "\n",
    "modelo = sm.OLS(y, X).fit()\n",
    "\n",
    "print(modelo.summary())\n"
   ]
  },
  {
   "cell_type": "markdown",
   "metadata": {},
   "source": [
    "- Tirado o tipo_residencia por apresentar o p value menos signficante para o modelo.\n",
    "- Após remoção, não houve alteração no r-squared (R-squared:0.355 e) o AIC apresentou uma melhora, assim como r-squared ajustado."
   ]
  },
  {
   "cell_type": "code",
   "execution_count": 12,
   "metadata": {},
   "outputs": [
    {
     "name": "stdout",
     "output_type": "stream",
     "text": [
      "                            OLS Regression Results                            \n",
      "==============================================================================\n",
      "Dep. Variable:              log_renda   R-squared:                       0.344\n",
      "Model:                            OLS   Adj. R-squared:                  0.344\n",
      "Method:                 Least Squares   F-statistic:                     724.1\n",
      "Date:                Sat, 21 Dec 2024   Prob (F-statistic):               0.00\n",
      "Time:                        23:31:30   Log-Likelihood:                -13695.\n",
      "No. Observations:               12427   AIC:                         2.741e+04\n",
      "Df Residuals:                   12417   BIC:                         2.748e+04\n",
      "Df Model:                           9                                         \n",
      "Covariance Type:            nonrobust                                         \n",
      "====================================================================================================================\n",
      "                                                       coef    std err          t      P>|t|      [0.025      0.975]\n",
      "--------------------------------------------------------------------------------------------------------------------\n",
      "Intercept                                            6.7589      0.220     30.733      0.000       6.328       7.190\n",
      "C(sexo, Treatment(\"F\"))[T.M]                         0.7867      0.014     56.358      0.000       0.759       0.814\n",
      "C(estado_civil, Treatment(\"Casado\"))[T.Separado]     0.2961      0.112      2.637      0.008       0.076       0.516\n",
      "C(estado_civil, Treatment(\"Casado\"))[T.Solteiro]     0.2518      0.110      2.291      0.022       0.036       0.467\n",
      "C(estado_civil, Treatment(\"Casado\"))[T.União]       -0.0385      0.025     -1.520      0.129      -0.088       0.011\n",
      "C(estado_civil, Treatment(\"Casado\"))[T.Viúvo]        0.3332      0.117      2.857      0.004       0.105       0.562\n",
      "qtd_filhos                                          -0.2435      0.109     -2.235      0.025      -0.457      -0.030\n",
      "idade                                                0.0049      0.001      6.243      0.000       0.003       0.006\n",
      "tempo_emprego                                        0.0608      0.001     58.808      0.000       0.059       0.063\n",
      "qt_pessoas_residencia                                0.2702      0.109      2.485      0.013       0.057       0.483\n",
      "==============================================================================\n",
      "Omnibus:                        0.948   Durbin-Watson:                   2.024\n",
      "Prob(Omnibus):                  0.622   Jarque-Bera (JB):                0.939\n",
      "Skew:                           0.021   Prob(JB):                        0.625\n",
      "Kurtosis:                       3.005   Cond. No.                     2.13e+03\n",
      "==============================================================================\n",
      "\n",
      "Notes:\n",
      "[1] Standard Errors assume that the covariance matrix of the errors is correctly specified.\n",
      "[2] The condition number is large, 2.13e+03. This might indicate that there are\n",
      "strong multicollinearity or other numerical problems.\n"
     ]
    }
   ],
   "source": [
    "df['log_renda'] = np.log(df['renda'])\n",
    "\n",
    "# Definindo a fórmula com variáveis qualitativas (usando a maior categoria como referência)\n",
    "formula = 'log_renda ~ C(sexo, Treatment(\"F\")) + C(estado_civil, Treatment(\"Casado\")) + qtd_filhos + idade + tempo_emprego + qt_pessoas_residencia'\n",
    "y, X = patsy.dmatrices(formula, data=df)\n",
    "\n",
    "# Tirado o tipo_residencia por apresentar o p value menos signficante para o modelo (não houve alteração no r-squared).\n",
    "modelo2 = sm.OLS(y, X).fit()\n",
    "\n",
    "print(modelo2.summary())"
   ]
  },
  {
   "cell_type": "markdown",
   "metadata": {},
   "source": [
    "- Modelo 1: É mais complexo, mas provavelmente oferece melhor capacidade preditiva, pois considera todas as variáveis relevantes, inclusive aquelas que poderiam ter um impacto pequeno, mas não insignificante.\n",
    "- Modelo 2: É mais simples, o que o torna mais interpretável e menos sujeito a sobreajuste (overfitting), mas pode perder precisão preditiva porque ignora variáveis potencialmente úteis.\n"
   ]
  },
  {
   "cell_type": "markdown",
   "metadata": {},
   "source": [
    "### Conclusão \n",
    "\n",
    "Modelo 1 é superior ao Modelo 2, considerando o AIC e o BIC, que equilibram ajuste e complexidade. Embora o Modelo 2 seja mais simples, ele sacrifica a qualidade do ajuste. Portanto, o Modelo 1 é preferível, especialmente se o objetivo for maximizar a explicação da variabilidade de log_renda.\n",
    "\n",
    "Se o objetivo for simplicidade e interpretabilidade, o Modelo 2 poderia ser escolhido, mas isso depende do contexto e da finalidade da análise.\n"
   ]
  }
 ],
 "metadata": {
  "kernelspec": {
   "display_name": "Python 3 (ipykernel)",
   "language": "python",
   "name": "python3"
  },
  "language_info": {
   "codemirror_mode": {
    "name": "ipython",
    "version": 3
   },
   "file_extension": ".py",
   "mimetype": "text/x-python",
   "name": "python",
   "nbconvert_exporter": "python",
   "pygments_lexer": "ipython3",
   "version": "3.11.5"
  }
 },
 "nbformat": 4,
 "nbformat_minor": 4
}
